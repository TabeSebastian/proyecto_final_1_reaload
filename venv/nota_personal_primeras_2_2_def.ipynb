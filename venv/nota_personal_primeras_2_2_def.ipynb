{
 "cells": [
  {
   "cell_type": "code",
   "execution_count": null,
   "metadata": {},
   "outputs": [],
   "source": []
  },
  {
   "cell_type": "code",
   "execution_count": null,
   "metadata": {},
   "outputs": [],
   "source": [
    "import pandas as pd\n",
    "\n",
    "# Supongamos que tienes un DataFrame llamado UserForGenre\n",
    "# con las columnas 'user_id', 'playtime_forever', 'release_date_anio' y 'genres_0'\n",
    "\n",
    "# Define la función para obtener al usuario con más horas jugadas y la lista de acumulación de horas por año\n",
    "def obtener_usuario_mas_horas(dataframe, genero_deseado):\n",
    "    # Filtra el DataFrame para el género deseado\n",
    "    genero_df = dataframe[dataframe['genres_0'] == genero_deseado]\n",
    "\n",
    "    # Encuentra el usuario con más horas jugadas para el género dado\n",
    "    usuario_max_horas = genero_df.loc[genero_df['playtime_forever'].idxmax()]['user_id']\n",
    "\n",
    "    # Agrupa y suma las horas jugadas por año\n",
    "    horas_por_anio = genero_df.groupby('release_date_anio')['playtime_forever'].sum().reset_index()\n",
    "    horas_por_anio = horas_por_anio.rename(columns={'release_date_anio': 'Año', 'playtime_forever': 'Horas'})\n",
    "\n",
    "    return {\"Usuario con más horas jugadas para \" + genero_deseado: usuario_max_horas, \"Horas jugadas\": horas_por_anio.to_dict(orient='records')}\n",
    "\n",
    "# Crear una lista para almacenar los resultados\n",
    "resultados = []\n",
    "\n",
    "# Géneros para los que deseas obtener información\n",
    "generos_deseados = [\"Action\", \"RPG\", \"Simulation\" ,\"Adventure\",\"Animation &amp; Modeling\",\"Audio Production\",\"Casual\",\"Design &amp; Illustration\",\n",
    "                    \"Early Access\",\"Education\",\"Free to Play\",\"Indie\" ,\"Massively Multiplayer\",\"Photo Editing\",\"Racing\",\"Sports\",\"Strategy\",\"Utilities\",\"Web Publishing\" ]\n",
    "\n",
    "# Iterar a través de los géneros y guardar los resultados en la lista\n",
    "for genero in generos_deseados:\n",
    "    resultado = obtener_usuario_mas_horas(UserForGenre, genero)\n",
    "    resultados.append(resultado)\n",
    "\n",
    "# Convertir la lista de resultados en un DataFrame\n",
    "df_resultados = pd.DataFrame(resultados)\n",
    "\n",
    "# Guardar el DataFrame en un archivo JSON\n",
    "df_resultados.to_json('resultados.json', orient='records')\n",
    "\n",
    "# El DataFrame 'df_resultados' contendrá la información para los géneros especificados\n",
    "# Los resultados se guardarán en un archivo llamado 'resultados.json'\n"
   ]
  }
 ],
 "metadata": {
  "kernelspec": {
   "display_name": "Python 3",
   "language": "python",
   "name": "python3"
  },
  "language_info": {
   "codemirror_mode": {
    "name": "ipython",
    "version": 3
   },
   "file_extension": ".py",
   "mimetype": "text/x-python",
   "name": "python",
   "nbconvert_exporter": "python",
   "pygments_lexer": "ipython3",
   "version": "3.11.4"
  }
 },
 "nbformat": 4,
 "nbformat_minor": 2
}
