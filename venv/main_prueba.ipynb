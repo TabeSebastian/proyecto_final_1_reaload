{
 "cells": [
  {
   "cell_type": "code",
   "execution_count": 53,
   "metadata": {},
   "outputs": [],
   "source": [
    "import pandas as pd"
   ]
  },
  {
   "cell_type": "code",
   "execution_count": 60,
   "metadata": {},
   "outputs": [],
   "source": [
    "# Carga el DataFrame con los datos fuera de la función\n",
    "\n",
    "\n",
    "\n",
    "\n"
   ]
  },
  {
   "cell_type": "code",
   "execution_count": 61,
   "metadata": {},
   "outputs": [
    {
     "data": {
      "text/html": [
       "<div>\n",
       "<style scoped>\n",
       "    .dataframe tbody tr th:only-of-type {\n",
       "        vertical-align: middle;\n",
       "    }\n",
       "\n",
       "    .dataframe tbody tr th {\n",
       "        vertical-align: top;\n",
       "    }\n",
       "\n",
       "    .dataframe thead th {\n",
       "        text-align: right;\n",
       "    }\n",
       "</style>\n",
       "<table border=\"1\" class=\"dataframe\">\n",
       "  <thead>\n",
       "    <tr style=\"text-align: right;\">\n",
       "      <th></th>\n",
       "      <th>Unnamed: 0</th>\n",
       "      <th>Positive</th>\n",
       "      <th>Negative</th>\n",
       "    </tr>\n",
       "  </thead>\n",
       "  <tbody>\n",
       "    <tr>\n",
       "      <th>0</th>\n",
       "      <td>2015</td>\n",
       "      <td>11723</td>\n",
       "      <td>2010</td>\n",
       "    </tr>\n",
       "    <tr>\n",
       "      <th>1</th>\n",
       "      <td>2012</td>\n",
       "      <td>695</td>\n",
       "      <td>6</td>\n",
       "    </tr>\n",
       "    <tr>\n",
       "      <th>2</th>\n",
       "      <td>2013</td>\n",
       "      <td>4353</td>\n",
       "      <td>193</td>\n",
       "    </tr>\n",
       "    <tr>\n",
       "      <th>3</th>\n",
       "      <td>2014</td>\n",
       "      <td>14475</td>\n",
       "      <td>1434</td>\n",
       "    </tr>\n",
       "    <tr>\n",
       "      <th>4</th>\n",
       "      <td>2011</td>\n",
       "      <td>305</td>\n",
       "      <td>10</td>\n",
       "    </tr>\n",
       "    <tr>\n",
       "      <th>5</th>\n",
       "      <td>2010</td>\n",
       "      <td>33</td>\n",
       "      <td>1</td>\n",
       "    </tr>\n",
       "  </tbody>\n",
       "</table>\n",
       "</div>"
      ],
      "text/plain": [
       "   Unnamed: 0  Positive  Negative\n",
       "0        2015     11723      2010\n",
       "1        2012       695         6\n",
       "2        2013      4353       193\n",
       "3        2014     14475      1434\n",
       "4        2011       305        10\n",
       "5        2010        33         1"
      ]
     },
     "execution_count": 61,
     "metadata": {},
     "output_type": "execute_result"
    }
   ],
   "source": [
    "sentiment_analysis"
   ]
  },
  {
   "cell_type": "code",
   "execution_count": null,
   "metadata": {},
   "outputs": [],
   "source": [
    "def sentiment_analysis( año : int ): Según el año de lanzamiento, se devuelve una lista con la cantidad de registros de reseñas de usuarios \n",
    "que se encuentren categorizados con un análisis de sentimiento.\n",
    "Ejemplo de retorno: {Negative = 182, Positive = 278}"
   ]
  },
  {
   "cell_type": "code",
   "execution_count": 72,
   "metadata": {},
   "outputs": [
    {
     "name": "stdout",
     "output_type": "stream",
     "text": [
      "{'Análisis de sentimiento para el año 2014': {'Positive': 14475, 'Negative': 1434}}\n"
     ]
    }
   ],
   "source": [
    "import pandas as pd\n",
    "\n",
    "# Carga el DataFrame con los datos fuera de la función\n",
    "df_sentiment_analysis = pd.read_csv('E:/Mis documentos/henry/proyecto_final_1_reaload/venv/Include/def sentiment_analysis.csv')  # Reemplaza 'ruta_del_archivo.csv' con la ruta correcta\n",
    "\n",
    "def sentiment_analysis(anio):\n",
    "    # Filtra el DataFrame para el año especificado\n",
    "    df_filtrado = df_sentiment_analysis[df_sentiment_analysis['Unnamed: 0'] == anio]\n",
    "\n",
    "    if df_filtrado.empty:\n",
    "        # Si el filtrado está vacío, devuelve todos los datos de la columna 'Unnamed: 0'\n",
    "        datos_anios = df_sentiment_analysis['Unnamed: 0'].tolist()\n",
    "        return {\"Todos los años disponibles son\": datos_anios}\n",
    "\n",
    "    # Si se encontraron datos para el año especificado, selecciona el análisis de sentimiento\n",
    "    analisis_sentimiento = df_filtrado[['Positive', 'Negative']].iloc[0]\n",
    "\n",
    "    # Elimina valores NaN si los hubiera\n",
    "    analisis_sentimiento = analisis_sentimiento.dropna()\n",
    "\n",
    "    if analisis_sentimiento.empty:\n",
    "        return {\"mensaje\": \"No se encontró análisis de sentimiento para el año especificado\"}\n",
    "\n",
    "    # Convierte la serie de análisis de sentimiento en un diccionario\n",
    "    analisis_dict = analisis_sentimiento.to_dict()\n",
    "\n",
    "    return {\"Análisis de sentimiento para el año \" + str(anio): analisis_dict}\n",
    "\n",
    "# Ejemplo de uso\n",
    "anio = 2014  # Reemplaza con el año que desees\n",
    "resultado = sentiment_analysis(anio)\n",
    "print(resultado)\n"
   ]
  }
 ],
 "metadata": {
  "kernelspec": {
   "display_name": "venv",
   "language": "python",
   "name": "python3"
  },
  "language_info": {
   "codemirror_mode": {
    "name": "ipython",
    "version": 3
   },
   "file_extension": ".py",
   "mimetype": "text/x-python",
   "name": "python",
   "nbconvert_exporter": "python",
   "pygments_lexer": "ipython3",
   "version": "3.11.4"
  }
 },
 "nbformat": 4,
 "nbformat_minor": 2
}
